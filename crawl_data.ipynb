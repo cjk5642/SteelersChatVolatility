{
  "nbformat": 4,
  "nbformat_minor": 0,
  "metadata": {
    "colab": {
      "name": "crawl_data.ipynb",
      "provenance": [],
      "mount_file_id": "14p_AdCGYf0Z7xZrMW6sUzyilTS9E3Qlj",
      "authorship_tag": "ABX9TyPRBeJcDXzAiP/uocJqLsbW",
      "include_colab_link": true
    },
    "kernelspec": {
      "name": "python3",
      "display_name": "Python 3"
    },
    "language_info": {
      "name": "python"
    }
  },
  "cells": [
    {
      "cell_type": "markdown",
      "metadata": {
        "id": "view-in-github",
        "colab_type": "text"
      },
      "source": [
        "<a href=\"https://colab.research.google.com/github/cjk5642/SteelersChatVolatility/blob/main/crawl_data.ipynb\" target=\"_parent\"><img src=\"https://colab.research.google.com/assets/colab-badge.svg\" alt=\"Open In Colab\"/></a>"
      ]
    },
    {
      "cell_type": "code",
      "execution_count": 207,
      "metadata": {
        "id": "rXOTFmhu92BY",
        "colab": {
          "base_uri": "https://localhost:8080/"
        },
        "outputId": "523a98d1-7c62-4d08-d4da-9b222f73ebb3"
      },
      "outputs": [
        {
          "output_type": "stream",
          "name": "stdout",
          "text": [
            "INFO:psaw.PushshiftAPI:https://api.pushshift.io/meta\n"
          ]
        }
      ],
      "source": [
        "try:\n",
        "  import psaw\n",
        "except ModuleNotFoundError:\n",
        "  !pip install psaw\n",
        "  import psaw\n",
        "\n",
        "import time\n",
        "import requests\n",
        "import requests.auth\n",
        "from tqdm import tqdm\n",
        "from datetime import datetime\n",
        "from pytz import timezone\n",
        "import pandas as pd\n",
        "from praw.models import MoreComments\n",
        "from psaw import PushshiftAPI\n",
        "\n",
        "cred_path = \"/content/drive/MyDrive/Data/Reddit/credentials.json\"\n",
        "with open(cred_path, 'r') as creds:\n",
        "  creds = json.load(creds)\n",
        "\n",
        "username = creds['USERNAME']\n",
        "userAgent = \"collectionbot/0.1 by \" + username\n",
        "clientId = creds['CLIENT_ID']\n",
        "clientSecret = creds['SECRET_KEY']\n",
        "password = creds['PASSWORD']\n",
        "\n",
        "reddit = praw.Reddit(\n",
        "    client_id=clientId,\n",
        "    client_secret=clientSecret,\n",
        "    password=password,\n",
        "    user_agent=userAgent,\n",
        "    username=username,\n",
        "    check_for_async=False\n",
        ")\n",
        "api = PushshiftAPI(reddit)"
      ]
    },
    {
      "cell_type": "code",
      "source": [
        "subreddit=\"steelers\"\n",
        "link_id = 'rzvzvq'\n",
        "limit=100000\n",
        "\n",
        "comments = api.search_comments(subreddit=subreddit, link_id = link_id, limit=limit)\n",
        "res = list(comments)\n",
        "print(f'Retrieved {len(res)} comments from Pushshift')"
      ],
      "metadata": {
        "colab": {
          "base_uri": "https://localhost:8080/"
        },
        "id": "JHbulbyKdH8Y",
        "outputId": "d8df069d-6f72-49e6-9d6c-38c3d8a69b5c"
      },
      "execution_count": 208,
      "outputs": [
        {
          "output_type": "stream",
          "name": "stdout",
          "text": [
            "INFO:psaw.PushshiftAPI:https://api.pushshift.io/reddit/comment/search?filter=id&filter=created_utc&subreddit=steelers&link_id=rzvzvq&limit=1000&metadata=true&sort=desc\n"
          ]
        },
        {
          "output_type": "stream",
          "name": "stderr",
          "text": [
            "/usr/local/lib/python3.7/dist-packages/psaw/PushshiftAPI.py:252: UserWarning: Not all PushShift shards are active. Query results may be incomplete\n",
            "  warnings.warn(shards_down_message)\n"
          ]
        },
        {
          "output_type": "stream",
          "name": "stdout",
          "text": [
            "INFO:psaw.PushshiftAPI:https://api.pushshift.io/reddit/comment/search?filter=id&filter=created_utc&subreddit=steelers&link_id=rzvzvq&limit=1000&metadata=true&sort=desc&before=1641764030\n",
            "INFO:psaw.PushshiftAPI:https://api.pushshift.io/reddit/comment/search?filter=id&filter=created_utc&subreddit=steelers&link_id=rzvzvq&limit=1000&metadata=true&sort=desc&before=1641763946\n",
            "INFO:psaw.PushshiftAPI:https://api.pushshift.io/reddit/comment/search?filter=id&filter=created_utc&subreddit=steelers&link_id=rzvzvq&limit=1000&metadata=true&sort=desc&before=1641763823\n",
            "INFO:psaw.PushshiftAPI:https://api.pushshift.io/reddit/comment/search?filter=id&filter=created_utc&subreddit=steelers&link_id=rzvzvq&limit=1000&metadata=true&sort=desc&before=1641763687\n",
            "INFO:psaw.PushshiftAPI:https://api.pushshift.io/reddit/comment/search?filter=id&filter=created_utc&subreddit=steelers&link_id=rzvzvq&limit=1000&metadata=true&sort=desc&before=1641763580\n",
            "INFO:psaw.PushshiftAPI:https://api.pushshift.io/reddit/comment/search?filter=id&filter=created_utc&subreddit=steelers&link_id=rzvzvq&limit=1000&metadata=true&sort=desc&before=1641763433\n",
            "INFO:psaw.PushshiftAPI:https://api.pushshift.io/reddit/comment/search?filter=id&filter=created_utc&subreddit=steelers&link_id=rzvzvq&limit=1000&metadata=true&sort=desc&before=1641763225\n",
            "INFO:psaw.PushshiftAPI:https://api.pushshift.io/reddit/comment/search?filter=id&filter=created_utc&subreddit=steelers&link_id=rzvzvq&limit=1000&metadata=true&sort=desc&before=1641763019\n",
            "INFO:psaw.PushshiftAPI:https://api.pushshift.io/reddit/comment/search?filter=id&filter=created_utc&subreddit=steelers&link_id=rzvzvq&limit=1000&metadata=true&sort=desc&before=1641762701\n",
            "INFO:psaw.PushshiftAPI:https://api.pushshift.io/reddit/comment/search?filter=id&filter=created_utc&subreddit=steelers&link_id=rzvzvq&limit=1000&metadata=true&sort=desc&before=1641762567\n",
            "INFO:psaw.PushshiftAPI:https://api.pushshift.io/reddit/comment/search?filter=id&filter=created_utc&subreddit=steelers&link_id=rzvzvq&limit=1000&metadata=true&sort=desc&before=1641762422\n",
            "INFO:psaw.PushshiftAPI:https://api.pushshift.io/reddit/comment/search?filter=id&filter=created_utc&subreddit=steelers&link_id=rzvzvq&limit=1000&metadata=true&sort=desc&before=1641762248\n",
            "INFO:psaw.PushshiftAPI:https://api.pushshift.io/reddit/comment/search?filter=id&filter=created_utc&subreddit=steelers&link_id=rzvzvq&limit=1000&metadata=true&sort=desc&before=1641762037\n",
            "INFO:psaw.PushshiftAPI:https://api.pushshift.io/reddit/comment/search?filter=id&filter=created_utc&subreddit=steelers&link_id=rzvzvq&limit=1000&metadata=true&sort=desc&before=1641761834\n",
            "INFO:psaw.PushshiftAPI:https://api.pushshift.io/reddit/comment/search?filter=id&filter=created_utc&subreddit=steelers&link_id=rzvzvq&limit=1000&metadata=true&sort=desc&before=1641761580\n",
            "INFO:psaw.PushshiftAPI:https://api.pushshift.io/reddit/comment/search?filter=id&filter=created_utc&subreddit=steelers&link_id=rzvzvq&limit=1000&metadata=true&sort=desc&before=1641761404\n",
            "INFO:psaw.PushshiftAPI:https://api.pushshift.io/reddit/comment/search?filter=id&filter=created_utc&subreddit=steelers&link_id=rzvzvq&limit=1000&metadata=true&sort=desc&before=1641761293\n",
            "INFO:psaw.PushshiftAPI:https://api.pushshift.io/reddit/comment/search?filter=id&filter=created_utc&subreddit=steelers&link_id=rzvzvq&limit=1000&metadata=true&sort=desc&before=1641761151\n",
            "INFO:psaw.PushshiftAPI:https://api.pushshift.io/reddit/comment/search?filter=id&filter=created_utc&subreddit=steelers&link_id=rzvzvq&limit=1000&metadata=true&sort=desc&before=1641760949\n",
            "INFO:psaw.PushshiftAPI:https://api.pushshift.io/reddit/comment/search?filter=id&filter=created_utc&subreddit=steelers&link_id=rzvzvq&limit=1000&metadata=true&sort=desc&before=1641760592\n",
            "INFO:psaw.PushshiftAPI:https://api.pushshift.io/reddit/comment/search?filter=id&filter=created_utc&subreddit=steelers&link_id=rzvzvq&limit=1000&metadata=true&sort=desc&before=1641760414\n",
            "INFO:psaw.PushshiftAPI:https://api.pushshift.io/reddit/comment/search?filter=id&filter=created_utc&subreddit=steelers&link_id=rzvzvq&limit=1000&metadata=true&sort=desc&before=1641760160\n",
            "INFO:psaw.PushshiftAPI:https://api.pushshift.io/reddit/comment/search?filter=id&filter=created_utc&subreddit=steelers&link_id=rzvzvq&limit=1000&metadata=true&sort=desc&before=1641760026\n",
            "INFO:psaw.PushshiftAPI:https://api.pushshift.io/reddit/comment/search?filter=id&filter=created_utc&subreddit=steelers&link_id=rzvzvq&limit=1000&metadata=true&sort=desc&before=1641759721\n",
            "INFO:psaw.PushshiftAPI:https://api.pushshift.io/reddit/comment/search?filter=id&filter=created_utc&subreddit=steelers&link_id=rzvzvq&limit=1000&metadata=true&sort=desc&before=1641759582\n",
            "INFO:psaw.PushshiftAPI:https://api.pushshift.io/reddit/comment/search?filter=id&filter=created_utc&subreddit=steelers&link_id=rzvzvq&limit=1000&metadata=true&sort=desc&before=1641759409\n",
            "INFO:psaw.PushshiftAPI:https://api.pushshift.io/reddit/comment/search?filter=id&filter=created_utc&subreddit=steelers&link_id=rzvzvq&limit=1000&metadata=true&sort=desc&before=1641759248\n",
            "INFO:psaw.PushshiftAPI:https://api.pushshift.io/reddit/comment/search?filter=id&filter=created_utc&subreddit=steelers&link_id=rzvzvq&limit=1000&metadata=true&sort=desc&before=1641759066\n",
            "INFO:psaw.PushshiftAPI:https://api.pushshift.io/reddit/comment/search?filter=id&filter=created_utc&subreddit=steelers&link_id=rzvzvq&limit=1000&metadata=true&sort=desc&before=1641758817\n",
            "INFO:psaw.PushshiftAPI:https://api.pushshift.io/reddit/comment/search?filter=id&filter=created_utc&subreddit=steelers&link_id=rzvzvq&limit=1000&metadata=true&sort=desc&before=1641758478\n",
            "INFO:psaw.PushshiftAPI:https://api.pushshift.io/reddit/comment/search?filter=id&filter=created_utc&subreddit=steelers&link_id=rzvzvq&limit=1000&metadata=true&sort=desc&before=1641758285\n",
            "INFO:psaw.PushshiftAPI:https://api.pushshift.io/reddit/comment/search?filter=id&filter=created_utc&subreddit=steelers&link_id=rzvzvq&limit=1000&metadata=true&sort=desc&before=1641758001\n",
            "INFO:psaw.PushshiftAPI:https://api.pushshift.io/reddit/comment/search?filter=id&filter=created_utc&subreddit=steelers&link_id=rzvzvq&limit=1000&metadata=true&sort=desc&before=1641757761\n",
            "INFO:psaw.PushshiftAPI:https://api.pushshift.io/reddit/comment/search?filter=id&filter=created_utc&subreddit=steelers&link_id=rzvzvq&limit=1000&metadata=true&sort=desc&before=1641757232\n"
          ]
        },
        {
          "output_type": "stream",
          "name": "stderr",
          "text": [
            "/usr/local/lib/python3.7/dist-packages/psaw/PushshiftAPI.py:192: UserWarning: Got non 200 code 429\n",
            "  warnings.warn(\"Got non 200 code %s\" % response.status_code)\n",
            "/usr/local/lib/python3.7/dist-packages/psaw/PushshiftAPI.py:180: UserWarning: Unable to connect to pushshift.io. Retrying after backoff.\n",
            "  warnings.warn(\"Unable to connect to pushshift.io. Retrying after backoff.\")\n"
          ]
        },
        {
          "output_type": "stream",
          "name": "stdout",
          "text": [
            "INFO:psaw.PushshiftAPI:https://api.pushshift.io/reddit/comment/search?filter=id&filter=created_utc&subreddit=steelers&link_id=rzvzvq&limit=1000&metadata=true&sort=desc&before=1641757232\n",
            "INFO:psaw.PushshiftAPI:https://api.pushshift.io/reddit/comment/search?filter=id&filter=created_utc&subreddit=steelers&link_id=rzvzvq&limit=1000&metadata=true&sort=desc&before=1641756637\n",
            "INFO:psaw.PushshiftAPI:https://api.pushshift.io/reddit/comment/search?filter=id&filter=created_utc&subreddit=steelers&link_id=rzvzvq&limit=1000&metadata=true&sort=desc&before=1641756446\n",
            "INFO:psaw.PushshiftAPI:https://api.pushshift.io/reddit/comment/search?filter=id&filter=created_utc&subreddit=steelers&link_id=rzvzvq&limit=1000&metadata=true&sort=desc&before=1641756268\n",
            "INFO:psaw.PushshiftAPI:https://api.pushshift.io/reddit/comment/search?filter=id&filter=created_utc&subreddit=steelers&link_id=rzvzvq&limit=1000&metadata=true&sort=desc&before=1641756068\n",
            "INFO:psaw.PushshiftAPI:https://api.pushshift.io/reddit/comment/search?filter=id&filter=created_utc&subreddit=steelers&link_id=rzvzvq&limit=1000&metadata=true&sort=desc&before=1641755900\n",
            "INFO:psaw.PushshiftAPI:https://api.pushshift.io/reddit/comment/search?filter=id&filter=created_utc&subreddit=steelers&link_id=rzvzvq&limit=1000&metadata=true&sort=desc&before=1641755607\n",
            "INFO:psaw.PushshiftAPI:https://api.pushshift.io/reddit/comment/search?filter=id&filter=created_utc&subreddit=steelers&link_id=rzvzvq&limit=1000&metadata=true&sort=desc&before=1641755297\n",
            "INFO:psaw.PushshiftAPI:https://api.pushshift.io/reddit/comment/search?filter=id&filter=created_utc&subreddit=steelers&link_id=rzvzvq&limit=1000&metadata=true&sort=desc&before=1641754830\n",
            "INFO:psaw.PushshiftAPI:https://api.pushshift.io/reddit/comment/search?filter=id&filter=created_utc&subreddit=steelers&link_id=rzvzvq&limit=1000&metadata=true&sort=desc&before=1641754464\n",
            "INFO:psaw.PushshiftAPI:https://api.pushshift.io/reddit/comment/search?filter=id&filter=created_utc&subreddit=steelers&link_id=rzvzvq&limit=1000&metadata=true&sort=desc&before=1641754003\n",
            "INFO:psaw.PushshiftAPI:https://api.pushshift.io/reddit/comment/search?filter=id&filter=created_utc&subreddit=steelers&link_id=rzvzvq&limit=1000&metadata=true&sort=desc&before=1641753776\n",
            "INFO:psaw.PushshiftAPI:https://api.pushshift.io/reddit/comment/search?filter=id&filter=created_utc&subreddit=steelers&link_id=rzvzvq&limit=1000&metadata=true&sort=desc&before=1641753254\n",
            "INFO:psaw.PushshiftAPI:https://api.pushshift.io/reddit/comment/search?filter=id&filter=created_utc&subreddit=steelers&link_id=rzvzvq&limit=1000&metadata=true&sort=desc&before=1641753023\n",
            "INFO:psaw.PushshiftAPI:https://api.pushshift.io/reddit/comment/search?filter=id&filter=created_utc&subreddit=steelers&link_id=rzvzvq&limit=1000&metadata=true&sort=desc&before=1641752504\n",
            "INFO:psaw.PushshiftAPI:https://api.pushshift.io/reddit/comment/search?filter=id&filter=created_utc&subreddit=steelers&link_id=rzvzvq&limit=1000&metadata=true&sort=desc&before=1641752181\n",
            "INFO:psaw.PushshiftAPI:https://api.pushshift.io/reddit/comment/search?filter=id&filter=created_utc&subreddit=steelers&link_id=rzvzvq&limit=1000&metadata=true&sort=desc&before=1641751828\n",
            "INFO:psaw.PushshiftAPI:https://api.pushshift.io/reddit/comment/search?filter=id&filter=created_utc&subreddit=steelers&link_id=rzvzvq&limit=1000&metadata=true&sort=desc&before=1641750700\n",
            "INFO:psaw.PushshiftAPI:https://api.pushshift.io/reddit/comment/search?filter=id&filter=created_utc&subreddit=steelers&link_id=rzvzvq&limit=1000&metadata=true&sort=desc&before=1641747652\n",
            "Retrieved 5127 comments from Pushshift\n"
          ]
        }
      ]
    },
    {
      "cell_type": "code",
      "source": [
        "df = pd.DataFrame.from_dict([{\"id\": r.id, \"datetime\": str(datetime.fromtimestamp(r.created_utc)), \"comment\": r.body} for r in res])\n",
        "df['datetime'] = df['datetime'].apply(pd.to_datetime)\n",
        "df['datetime'] -= pd.to_timedelta(\"0 days 3 hours 0 seconds\") # put into EST\n",
        "df = df[(df['datetime'] >= \"2022-01-09 13:00:00\") & (df['datetime'] <= '2022-01-09 16:30:00')] # the time the game was player 1:00 PM to 4:30 PM EST\n",
        "df = df[(df['comment'] != '[removed]') & (df['comment'] != '[deleted]')].reset_index(drop = True)"
      ],
      "metadata": {
        "id": "-RpEZayz-Buw"
      },
      "execution_count": 216,
      "outputs": []
    },
    {
      "cell_type": "code",
      "source": [
        "df.to_csv('final_steelers_game_2022.csv', index=False)"
      ],
      "metadata": {
        "id": "Nrq_WWzEgdiD"
      },
      "execution_count": 217,
      "outputs": []
    }
  ]
}