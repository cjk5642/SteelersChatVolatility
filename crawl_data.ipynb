{
  "nbformat": 4,
  "nbformat_minor": 0,
  "metadata": {
    "colab": {
      "name": "crawl_data.ipynb",
      "provenance": [],
      "mount_file_id": "14p_AdCGYf0Z7xZrMW6sUzyilTS9E3Qlj",
      "authorship_tag": "ABX9TyPKqvh96ryQ/Yb1BCPcyKIX",
      "include_colab_link": true
    },
    "kernelspec": {
      "name": "python3",
      "display_name": "Python 3"
    },
    "language_info": {
      "name": "python"
    }
  },
  "cells": [
    {
      "cell_type": "markdown",
      "metadata": {
        "id": "view-in-github",
        "colab_type": "text"
      },
      "source": [
        "<a href=\"https://colab.research.google.com/github/cjk5642/SteelersChatVolatility/blob/main/crawl_data.ipynb\" target=\"_parent\"><img src=\"https://colab.research.google.com/assets/colab-badge.svg\" alt=\"Open In Colab\"/></a>"
      ]
    },
    {
      "cell_type": "code",
      "source": [
        "try:\n",
        "  import praw\n",
        "except ModuleNotFoundError:\n",
        "  !pip install praw\n",
        "  import praw\n",
        "\n",
        "try:\n",
        "  import psaw\n",
        "except ModuleNotFoundError:\n",
        "  !pip install psaw\n",
        "  import psaw"
      ],
      "metadata": {
        "id": "sMz1tnzNUycr"
      },
      "execution_count": 179,
      "outputs": []
    },
    {
      "cell_type": "code",
      "execution_count": 182,
      "metadata": {
        "id": "rXOTFmhu92BY",
        "colab": {
          "base_uri": "https://localhost:8080/"
        },
        "outputId": "94998344-fc16-44ab-d3c1-28eb6b6aa059"
      },
      "outputs": [
        {
          "output_type": "stream",
          "name": "stdout",
          "text": [
            "INFO:psaw.PushshiftAPI:https://api.pushshift.io/meta\n"
          ]
        }
      ],
      "source": [
        "import time\n",
        "import requests\n",
        "import requests.auth\n",
        "from tqdm import tqdm\n",
        "from datetime import datetime\n",
        "from pytz import timezone\n",
        "import pandas as pd\n",
        "from praw.models import MoreComments\n",
        "from psaw import PushshiftAPI\n",
        "\n",
        "cred_path = \"/content/drive/MyDrive/Data/Reddit/credentials.json\"\n",
        "with open(cred_path, 'r') as creds:\n",
        "  creds = json.load(creds)\n",
        "\n",
        "username = creds['USERNAME']\n",
        "userAgent = \"collectionbot/0.1 by \" + username\n",
        "clientId = creds['CLIENT_ID']\n",
        "clientSecret = creds['SECRET_KEY']\n",
        "password = creds['PASSWORD']\n",
        "\n",
        "reddit = praw.Reddit(\n",
        "    client_id=clientId,\n",
        "    client_secret=clientSecret,\n",
        "    password=password,\n",
        "    user_agent=userAgent,\n",
        "    username=username,\n",
        "    check_for_async=False\n",
        ")\n",
        "api = PushshiftAPI(reddit)"
      ]
    },
    {
      "cell_type": "code",
      "source": [
        "subreddit=\"steelers\"\n",
        "link_id = 'rzvzvq'\n",
        "limit=100000\n",
        "\n",
        "comments = api.search_comments(subreddit=subreddit, link_id = link_id, limit=limit)\n",
        "res = list(comments)\n",
        "print(f'Retrieved {len(res)} comments from Pushshift')"
      ],
      "metadata": {
        "colab": {
          "base_uri": "https://localhost:8080/"
        },
        "id": "JHbulbyKdH8Y",
        "outputId": "c56f2709-6362-4844-d510-a036428d9757"
      },
      "execution_count": 186,
      "outputs": [
        {
          "output_type": "stream",
          "name": "stdout",
          "text": [
            "INFO:psaw.PushshiftAPI:https://api.pushshift.io/reddit/comment/search?filter=id&filter=created_utc&subreddit=steelers&link_id=rzvzvq&limit=1000&metadata=true&sort=desc\n"
          ]
        },
        {
          "output_type": "stream",
          "name": "stderr",
          "text": [
            "/usr/local/lib/python3.7/dist-packages/psaw/PushshiftAPI.py:252: UserWarning: Not all PushShift shards are active. Query results may be incomplete\n",
            "  warnings.warn(shards_down_message)\n"
          ]
        },
        {
          "output_type": "stream",
          "name": "stdout",
          "text": [
            "INFO:psaw.PushshiftAPI:https://api.pushshift.io/reddit/comment/search?filter=id&filter=created_utc&subreddit=steelers&link_id=rzvzvq&limit=1000&metadata=true&sort=desc&before=1641764023\n",
            "INFO:psaw.PushshiftAPI:https://api.pushshift.io/reddit/comment/search?filter=id&filter=created_utc&subreddit=steelers&link_id=rzvzvq&limit=1000&metadata=true&sort=desc&before=1641763943\n",
            "INFO:psaw.PushshiftAPI:https://api.pushshift.io/reddit/comment/search?filter=id&filter=created_utc&subreddit=steelers&link_id=rzvzvq&limit=1000&metadata=true&sort=desc&before=1641763816\n",
            "INFO:psaw.PushshiftAPI:https://api.pushshift.io/reddit/comment/search?filter=id&filter=created_utc&subreddit=steelers&link_id=rzvzvq&limit=1000&metadata=true&sort=desc&before=1641763685\n",
            "INFO:psaw.PushshiftAPI:https://api.pushshift.io/reddit/comment/search?filter=id&filter=created_utc&subreddit=steelers&link_id=rzvzvq&limit=1000&metadata=true&sort=desc&before=1641763572\n",
            "INFO:psaw.PushshiftAPI:https://api.pushshift.io/reddit/comment/search?filter=id&filter=created_utc&subreddit=steelers&link_id=rzvzvq&limit=1000&metadata=true&sort=desc&before=1641763429\n",
            "INFO:psaw.PushshiftAPI:https://api.pushshift.io/reddit/comment/search?filter=id&filter=created_utc&subreddit=steelers&link_id=rzvzvq&limit=1000&metadata=true&sort=desc&before=1641763188\n",
            "INFO:psaw.PushshiftAPI:https://api.pushshift.io/reddit/comment/search?filter=id&filter=created_utc&subreddit=steelers&link_id=rzvzvq&limit=1000&metadata=true&sort=desc&before=1641762982\n",
            "INFO:psaw.PushshiftAPI:https://api.pushshift.io/reddit/comment/search?filter=id&filter=created_utc&subreddit=steelers&link_id=rzvzvq&limit=1000&metadata=true&sort=desc&before=1641762697\n",
            "INFO:psaw.PushshiftAPI:https://api.pushshift.io/reddit/comment/search?filter=id&filter=created_utc&subreddit=steelers&link_id=rzvzvq&limit=1000&metadata=true&sort=desc&before=1641762564\n",
            "INFO:psaw.PushshiftAPI:https://api.pushshift.io/reddit/comment/search?filter=id&filter=created_utc&subreddit=steelers&link_id=rzvzvq&limit=1000&metadata=true&sort=desc&before=1641762380\n",
            "INFO:psaw.PushshiftAPI:https://api.pushshift.io/reddit/comment/search?filter=id&filter=created_utc&subreddit=steelers&link_id=rzvzvq&limit=1000&metadata=true&sort=desc&before=1641762245\n",
            "INFO:psaw.PushshiftAPI:https://api.pushshift.io/reddit/comment/search?filter=id&filter=created_utc&subreddit=steelers&link_id=rzvzvq&limit=1000&metadata=true&sort=desc&before=1641762023\n",
            "INFO:psaw.PushshiftAPI:https://api.pushshift.io/reddit/comment/search?filter=id&filter=created_utc&subreddit=steelers&link_id=rzvzvq&limit=1000&metadata=true&sort=desc&before=1641761802\n",
            "INFO:psaw.PushshiftAPI:https://api.pushshift.io/reddit/comment/search?filter=id&filter=created_utc&subreddit=steelers&link_id=rzvzvq&limit=1000&metadata=true&sort=desc&before=1641761574\n",
            "INFO:psaw.PushshiftAPI:https://api.pushshift.io/reddit/comment/search?filter=id&filter=created_utc&subreddit=steelers&link_id=rzvzvq&limit=1000&metadata=true&sort=desc&before=1641761398\n",
            "INFO:psaw.PushshiftAPI:https://api.pushshift.io/reddit/comment/search?filter=id&filter=created_utc&subreddit=steelers&link_id=rzvzvq&limit=1000&metadata=true&sort=desc&before=1641761286\n",
            "INFO:psaw.PushshiftAPI:https://api.pushshift.io/reddit/comment/search?filter=id&filter=created_utc&subreddit=steelers&link_id=rzvzvq&limit=1000&metadata=true&sort=desc&before=1641761141\n",
            "INFO:psaw.PushshiftAPI:https://api.pushshift.io/reddit/comment/search?filter=id&filter=created_utc&subreddit=steelers&link_id=rzvzvq&limit=1000&metadata=true&sort=desc&before=1641760934\n",
            "INFO:psaw.PushshiftAPI:https://api.pushshift.io/reddit/comment/search?filter=id&filter=created_utc&subreddit=steelers&link_id=rzvzvq&limit=1000&metadata=true&sort=desc&before=1641760555\n",
            "INFO:psaw.PushshiftAPI:https://api.pushshift.io/reddit/comment/search?filter=id&filter=created_utc&subreddit=steelers&link_id=rzvzvq&limit=1000&metadata=true&sort=desc&before=1641760350\n",
            "INFO:psaw.PushshiftAPI:https://api.pushshift.io/reddit/comment/search?filter=id&filter=created_utc&subreddit=steelers&link_id=rzvzvq&limit=1000&metadata=true&sort=desc&before=1641760154\n",
            "INFO:psaw.PushshiftAPI:https://api.pushshift.io/reddit/comment/search?filter=id&filter=created_utc&subreddit=steelers&link_id=rzvzvq&limit=1000&metadata=true&sort=desc&before=1641759985\n",
            "INFO:psaw.PushshiftAPI:https://api.pushshift.io/reddit/comment/search?filter=id&filter=created_utc&subreddit=steelers&link_id=rzvzvq&limit=1000&metadata=true&sort=desc&before=1641759700\n",
            "INFO:psaw.PushshiftAPI:https://api.pushshift.io/reddit/comment/search?filter=id&filter=created_utc&subreddit=steelers&link_id=rzvzvq&limit=1000&metadata=true&sort=desc&before=1641759570\n",
            "INFO:psaw.PushshiftAPI:https://api.pushshift.io/reddit/comment/search?filter=id&filter=created_utc&subreddit=steelers&link_id=rzvzvq&limit=1000&metadata=true&sort=desc&before=1641759399\n",
            "INFO:psaw.PushshiftAPI:https://api.pushshift.io/reddit/comment/search?filter=id&filter=created_utc&subreddit=steelers&link_id=rzvzvq&limit=1000&metadata=true&sort=desc&before=1641759210\n",
            "INFO:psaw.PushshiftAPI:https://api.pushshift.io/reddit/comment/search?filter=id&filter=created_utc&subreddit=steelers&link_id=rzvzvq&limit=1000&metadata=true&sort=desc&before=1641759057\n",
            "INFO:psaw.PushshiftAPI:https://api.pushshift.io/reddit/comment/search?filter=id&filter=created_utc&subreddit=steelers&link_id=rzvzvq&limit=1000&metadata=true&sort=desc&before=1641758804\n",
            "INFO:psaw.PushshiftAPI:https://api.pushshift.io/reddit/comment/search?filter=id&filter=created_utc&subreddit=steelers&link_id=rzvzvq&limit=1000&metadata=true&sort=desc&before=1641758472\n",
            "INFO:psaw.PushshiftAPI:https://api.pushshift.io/reddit/comment/search?filter=id&filter=created_utc&subreddit=steelers&link_id=rzvzvq&limit=1000&metadata=true&sort=desc&before=1641758271\n",
            "INFO:psaw.PushshiftAPI:https://api.pushshift.io/reddit/comment/search?filter=id&filter=created_utc&subreddit=steelers&link_id=rzvzvq&limit=1000&metadata=true&sort=desc&before=1641757965\n",
            "INFO:psaw.PushshiftAPI:https://api.pushshift.io/reddit/comment/search?filter=id&filter=created_utc&subreddit=steelers&link_id=rzvzvq&limit=1000&metadata=true&sort=desc&before=1641757733\n",
            "INFO:psaw.PushshiftAPI:https://api.pushshift.io/reddit/comment/search?filter=id&filter=created_utc&subreddit=steelers&link_id=rzvzvq&limit=1000&metadata=true&sort=desc&before=1641757170\n",
            "INFO:psaw.PushshiftAPI:https://api.pushshift.io/reddit/comment/search?filter=id&filter=created_utc&subreddit=steelers&link_id=rzvzvq&limit=1000&metadata=true&sort=desc&before=1641756594\n",
            "INFO:psaw.PushshiftAPI:https://api.pushshift.io/reddit/comment/search?filter=id&filter=created_utc&subreddit=steelers&link_id=rzvzvq&limit=1000&metadata=true&sort=desc&before=1641756412\n",
            "INFO:psaw.PushshiftAPI:https://api.pushshift.io/reddit/comment/search?filter=id&filter=created_utc&subreddit=steelers&link_id=rzvzvq&limit=1000&metadata=true&sort=desc&before=1641756257\n",
            "INFO:psaw.PushshiftAPI:https://api.pushshift.io/reddit/comment/search?filter=id&filter=created_utc&subreddit=steelers&link_id=rzvzvq&limit=1000&metadata=true&sort=desc&before=1641756021\n",
            "INFO:psaw.PushshiftAPI:https://api.pushshift.io/reddit/comment/search?filter=id&filter=created_utc&subreddit=steelers&link_id=rzvzvq&limit=1000&metadata=true&sort=desc&before=1641755893\n",
            "INFO:psaw.PushshiftAPI:https://api.pushshift.io/reddit/comment/search?filter=id&filter=created_utc&subreddit=steelers&link_id=rzvzvq&limit=1000&metadata=true&sort=desc&before=1641755563\n",
            "INFO:psaw.PushshiftAPI:https://api.pushshift.io/reddit/comment/search?filter=id&filter=created_utc&subreddit=steelers&link_id=rzvzvq&limit=1000&metadata=true&sort=desc&before=1641755278\n",
            "INFO:psaw.PushshiftAPI:https://api.pushshift.io/reddit/comment/search?filter=id&filter=created_utc&subreddit=steelers&link_id=rzvzvq&limit=1000&metadata=true&sort=desc&before=1641754788\n",
            "INFO:psaw.PushshiftAPI:https://api.pushshift.io/reddit/comment/search?filter=id&filter=created_utc&subreddit=steelers&link_id=rzvzvq&limit=1000&metadata=true&sort=desc&before=1641754400\n",
            "INFO:psaw.PushshiftAPI:https://api.pushshift.io/reddit/comment/search?filter=id&filter=created_utc&subreddit=steelers&link_id=rzvzvq&limit=1000&metadata=true&sort=desc&before=1641753993\n",
            "INFO:psaw.PushshiftAPI:https://api.pushshift.io/reddit/comment/search?filter=id&filter=created_utc&subreddit=steelers&link_id=rzvzvq&limit=1000&metadata=true&sort=desc&before=1641753725\n",
            "INFO:psaw.PushshiftAPI:https://api.pushshift.io/reddit/comment/search?filter=id&filter=created_utc&subreddit=steelers&link_id=rzvzvq&limit=1000&metadata=true&sort=desc&before=1641753219\n",
            "INFO:psaw.PushshiftAPI:https://api.pushshift.io/reddit/comment/search?filter=id&filter=created_utc&subreddit=steelers&link_id=rzvzvq&limit=1000&metadata=true&sort=desc&before=1641752961\n",
            "INFO:psaw.PushshiftAPI:https://api.pushshift.io/reddit/comment/search?filter=id&filter=created_utc&subreddit=steelers&link_id=rzvzvq&limit=1000&metadata=true&sort=desc&before=1641752486\n",
            "INFO:psaw.PushshiftAPI:https://api.pushshift.io/reddit/comment/search?filter=id&filter=created_utc&subreddit=steelers&link_id=rzvzvq&limit=1000&metadata=true&sort=desc&before=1641752159\n",
            "INFO:psaw.PushshiftAPI:https://api.pushshift.io/reddit/comment/search?filter=id&filter=created_utc&subreddit=steelers&link_id=rzvzvq&limit=1000&metadata=true&sort=desc&before=1641751816\n",
            "INFO:psaw.PushshiftAPI:https://api.pushshift.io/reddit/comment/search?filter=id&filter=created_utc&subreddit=steelers&link_id=rzvzvq&limit=1000&metadata=true&sort=desc&before=1641749846\n",
            "INFO:psaw.PushshiftAPI:https://api.pushshift.io/reddit/comment/search?filter=id&filter=created_utc&subreddit=steelers&link_id=rzvzvq&limit=1000&metadata=true&sort=desc&before=1641747652\n",
            "Retrieved 5115 comments from Pushshift\n"
          ]
        }
      ]
    },
    {
      "cell_type": "code",
      "source": [
        "df = pd.DataFrame.from_dict([{\"id\": r.id, \"datetime\": str(datetime.fromtimestamp(r.created_utc)), \"comment\": r.body} for r in res])\n",
        "df['datetime'] = df['datetime'].apply(pd.to_datetime)\n",
        "df['datetime'] -= pd.to_timedelta(\"0 days 3 hours 0 seconds\")\n",
        "df = df[df['comment'] != '[removed]'].reset_index(drop = True)"
      ],
      "metadata": {
        "id": "-RpEZayz-Buw"
      },
      "execution_count": 203,
      "outputs": []
    },
    {
      "cell_type": "code",
      "source": [
        "df.to_csv('final_steelers_game_2022.csv', index=False)"
      ],
      "metadata": {
        "id": "Nrq_WWzEgdiD"
      },
      "execution_count": 205,
      "outputs": []
    }
  ]
}